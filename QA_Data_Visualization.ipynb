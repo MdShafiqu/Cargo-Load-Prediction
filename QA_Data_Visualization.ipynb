{
 "cells": [
  {
   "cell_type": "code",
   "execution_count": 1,
   "metadata": {
    "scrolled": true
   },
   "outputs": [
    {
     "data": {
      "text/html": [
       "<div>\n",
       "<style>\n",
       "    .dataframe thead tr:only-child th {\n",
       "        text-align: right;\n",
       "    }\n",
       "\n",
       "    .dataframe thead th {\n",
       "        text-align: left;\n",
       "    }\n",
       "\n",
       "    .dataframe tbody tr th {\n",
       "        vertical-align: top;\n",
       "    }\n",
       "</style>\n",
       "<table border=\"1\" class=\"dataframe\">\n",
       "  <thead>\n",
       "    <tr style=\"text-align: right;\">\n",
       "      <th></th>\n",
       "      <th>FLIGHT</th>\n",
       "      <th>AGENTCODE</th>\n",
       "      <th>booking_id</th>\n",
       "      <th>BOOKINGCHANNEL</th>\n",
       "      <th>PRODUCT</th>\n",
       "      <th>SHCLIST</th>\n",
       "      <th>SHPWT</th>\n",
       "      <th>SHPVOL</th>\n",
       "      <th>SHPPCS</th>\n",
       "      <th>BKDWT</th>\n",
       "      <th>BKDVOL</th>\n",
       "      <th>BKDPCS</th>\n",
       "      <th>FRSTBOOKEDWT</th>\n",
       "      <th>FRSTBOOKEDVOL</th>\n",
       "      <th>FRSTBOOKEDPCS</th>\n",
       "      <th>FRSTSHPWT</th>\n",
       "      <th>FRSTSHPVOL</th>\n",
       "      <th>FRSTSHPPCS</th>\n",
       "      <th>RCSWT</th>\n",
       "    </tr>\n",
       "  </thead>\n",
       "  <tbody>\n",
       "    <tr>\n",
       "      <th>0</th>\n",
       "      <td>QR-0069-2016-01-02</td>\n",
       "      <td>DGF-MY-KUL-KUL</td>\n",
       "      <td>392213589</td>\n",
       "      <td>WEB</td>\n",
       "      <td>GCR</td>\n",
       "      <td>VIPECCALOGCR</td>\n",
       "      <td>2100.0</td>\n",
       "      <td>13.966</td>\n",
       "      <td>15</td>\n",
       "      <td>2527.0</td>\n",
       "      <td>10.729</td>\n",
       "      <td>24</td>\n",
       "      <td>2527.0</td>\n",
       "      <td>10.729</td>\n",
       "      <td>24</td>\n",
       "      <td>2100.0</td>\n",
       "      <td>13.970</td>\n",
       "      <td>15</td>\n",
       "      <td>2527.0</td>\n",
       "    </tr>\n",
       "    <tr>\n",
       "      <th>1</th>\n",
       "      <td>QR-8245-2016-01-02</td>\n",
       "      <td>ASR-IR-THR-THR</td>\n",
       "      <td>392213590</td>\n",
       "      <td>WEB</td>\n",
       "      <td>GCR</td>\n",
       "      <td>HEA</td>\n",
       "      <td>180.0</td>\n",
       "      <td>1.072</td>\n",
       "      <td>9</td>\n",
       "      <td>5015.0</td>\n",
       "      <td>24.286</td>\n",
       "      <td>3</td>\n",
       "      <td>5015.0</td>\n",
       "      <td>24.286</td>\n",
       "      <td>3</td>\n",
       "      <td>180.0</td>\n",
       "      <td>1.072</td>\n",
       "      <td>9</td>\n",
       "      <td>5015.0</td>\n",
       "    </tr>\n",
       "    <tr>\n",
       "      <th>2</th>\n",
       "      <td>QR-8623-2016-01-01</td>\n",
       "      <td>TRIO-IN-MAA-BR1</td>\n",
       "      <td>392213592</td>\n",
       "      <td>WEB</td>\n",
       "      <td>GCR</td>\n",
       "      <td>HEAECC</td>\n",
       "      <td>1480.0</td>\n",
       "      <td>2.592</td>\n",
       "      <td>3</td>\n",
       "      <td>1480.0</td>\n",
       "      <td>2.592</td>\n",
       "      <td>3</td>\n",
       "      <td>1480.0</td>\n",
       "      <td>2.592</td>\n",
       "      <td>3</td>\n",
       "      <td>1480.0</td>\n",
       "      <td>2.592</td>\n",
       "      <td>3</td>\n",
       "      <td>1156.0</td>\n",
       "    </tr>\n",
       "    <tr>\n",
       "      <th>3</th>\n",
       "      <td>QR-0570-2016-01-04</td>\n",
       "      <td>ICOUS-AE-AUH-BR</td>\n",
       "      <td>392213594</td>\n",
       "      <td>WEB</td>\n",
       "      <td>COU</td>\n",
       "      <td>COUQRT</td>\n",
       "      <td>2500.0</td>\n",
       "      <td>11.391</td>\n",
       "      <td>125</td>\n",
       "      <td>1500.0</td>\n",
       "      <td>9.000</td>\n",
       "      <td>69</td>\n",
       "      <td>1500.0</td>\n",
       "      <td>9.000</td>\n",
       "      <td>69</td>\n",
       "      <td>2500.0</td>\n",
       "      <td>11.391</td>\n",
       "      <td>125</td>\n",
       "      <td>15.0</td>\n",
       "    </tr>\n",
       "  </tbody>\n",
       "</table>\n",
       "</div>"
      ],
      "text/plain": [
       "               FLIGHT        AGENTCODE  booking_id BOOKINGCHANNEL PRODUCT  \\\n",
       "0  QR-0069-2016-01-02   DGF-MY-KUL-KUL   392213589            WEB     GCR   \n",
       "1  QR-8245-2016-01-02   ASR-IR-THR-THR   392213590            WEB     GCR   \n",
       "2  QR-8623-2016-01-01  TRIO-IN-MAA-BR1   392213592            WEB     GCR   \n",
       "3  QR-0570-2016-01-04  ICOUS-AE-AUH-BR   392213594            WEB     COU   \n",
       "\n",
       "        SHCLIST   SHPWT  SHPVOL  SHPPCS   BKDWT  BKDVOL  BKDPCS  FRSTBOOKEDWT  \\\n",
       "0  VIPECCALOGCR  2100.0  13.966      15  2527.0  10.729      24        2527.0   \n",
       "1           HEA   180.0   1.072       9  5015.0  24.286       3        5015.0   \n",
       "2        HEAECC  1480.0   2.592       3  1480.0   2.592       3        1480.0   \n",
       "3        COUQRT  2500.0  11.391     125  1500.0   9.000      69        1500.0   \n",
       "\n",
       "   FRSTBOOKEDVOL  FRSTBOOKEDPCS  FRSTSHPWT  FRSTSHPVOL  FRSTSHPPCS   RCSWT  \n",
       "0         10.729             24     2100.0      13.970          15  2527.0  \n",
       "1         24.286              3      180.0       1.072           9  5015.0  \n",
       "2          2.592              3     1480.0       2.592           3  1156.0  \n",
       "3          9.000             69     2500.0      11.391         125    15.0  "
      ]
     },
     "execution_count": 1,
     "metadata": {},
     "output_type": "execute_result"
    }
   ],
   "source": [
    "import pandas as pd\n",
    "import numpy as np\n",
    "data=pd.read_csv('Shipment_Data.csv')\n",
    "#test_data=pd.read_csv('test_seez.csv')\n",
    "data[0:4]\n",
    "#print test_data.head()"
   ]
  },
  {
   "cell_type": "code",
   "execution_count": 2,
   "metadata": {},
   "outputs": [
    {
     "data": {
      "text/html": [
       "<div>\n",
       "<style>\n",
       "    .dataframe thead tr:only-child th {\n",
       "        text-align: right;\n",
       "    }\n",
       "\n",
       "    .dataframe thead th {\n",
       "        text-align: left;\n",
       "    }\n",
       "\n",
       "    .dataframe tbody tr th {\n",
       "        vertical-align: top;\n",
       "    }\n",
       "</style>\n",
       "<table border=\"1\" class=\"dataframe\">\n",
       "  <thead>\n",
       "    <tr style=\"text-align: right;\">\n",
       "      <th></th>\n",
       "      <th>FLIGHT</th>\n",
       "      <th>SHPWT</th>\n",
       "      <th>SHPVOL</th>\n",
       "      <th>SHPPCS</th>\n",
       "      <th>BKDWT</th>\n",
       "      <th>BKDVOL</th>\n",
       "      <th>BKDPCS</th>\n",
       "      <th>FRSTBOOKEDWT</th>\n",
       "      <th>FRSTBOOKEDVOL</th>\n",
       "      <th>FRSTBOOKEDPCS</th>\n",
       "      <th>FRSTSHPWT</th>\n",
       "      <th>FRSTSHPVOL</th>\n",
       "      <th>FRSTSHPPCS</th>\n",
       "      <th>RCSWT</th>\n",
       "    </tr>\n",
       "  </thead>\n",
       "  <tbody>\n",
       "    <tr>\n",
       "      <th>0</th>\n",
       "      <td>QR-0069-2016-01-02</td>\n",
       "      <td>2100.0</td>\n",
       "      <td>13.966</td>\n",
       "      <td>15</td>\n",
       "      <td>2527.0</td>\n",
       "      <td>10.729</td>\n",
       "      <td>24</td>\n",
       "      <td>2527.0</td>\n",
       "      <td>10.729</td>\n",
       "      <td>24</td>\n",
       "      <td>2100.0</td>\n",
       "      <td>13.970</td>\n",
       "      <td>15</td>\n",
       "      <td>2527.0</td>\n",
       "    </tr>\n",
       "    <tr>\n",
       "      <th>1</th>\n",
       "      <td>QR-8245-2016-01-02</td>\n",
       "      <td>180.0</td>\n",
       "      <td>1.072</td>\n",
       "      <td>9</td>\n",
       "      <td>5015.0</td>\n",
       "      <td>24.286</td>\n",
       "      <td>3</td>\n",
       "      <td>5015.0</td>\n",
       "      <td>24.286</td>\n",
       "      <td>3</td>\n",
       "      <td>180.0</td>\n",
       "      <td>1.072</td>\n",
       "      <td>9</td>\n",
       "      <td>5015.0</td>\n",
       "    </tr>\n",
       "    <tr>\n",
       "      <th>2</th>\n",
       "      <td>QR-8623-2016-01-01</td>\n",
       "      <td>1480.0</td>\n",
       "      <td>2.592</td>\n",
       "      <td>3</td>\n",
       "      <td>1480.0</td>\n",
       "      <td>2.592</td>\n",
       "      <td>3</td>\n",
       "      <td>1480.0</td>\n",
       "      <td>2.592</td>\n",
       "      <td>3</td>\n",
       "      <td>1480.0</td>\n",
       "      <td>2.592</td>\n",
       "      <td>3</td>\n",
       "      <td>1156.0</td>\n",
       "    </tr>\n",
       "    <tr>\n",
       "      <th>3</th>\n",
       "      <td>QR-0570-2016-01-04</td>\n",
       "      <td>2500.0</td>\n",
       "      <td>11.391</td>\n",
       "      <td>125</td>\n",
       "      <td>1500.0</td>\n",
       "      <td>9.000</td>\n",
       "      <td>69</td>\n",
       "      <td>1500.0</td>\n",
       "      <td>9.000</td>\n",
       "      <td>69</td>\n",
       "      <td>2500.0</td>\n",
       "      <td>11.391</td>\n",
       "      <td>125</td>\n",
       "      <td>15.0</td>\n",
       "    </tr>\n",
       "    <tr>\n",
       "      <th>4</th>\n",
       "      <td>QR-8112-2016-01-28</td>\n",
       "      <td>2000.0</td>\n",
       "      <td>12.000</td>\n",
       "      <td>1</td>\n",
       "      <td>2000.0</td>\n",
       "      <td>16.300</td>\n",
       "      <td>30</td>\n",
       "      <td>2000.0</td>\n",
       "      <td>12.000</td>\n",
       "      <td>1</td>\n",
       "      <td>2000.0</td>\n",
       "      <td>12.000</td>\n",
       "      <td>1</td>\n",
       "      <td>1691.0</td>\n",
       "    </tr>\n",
       "  </tbody>\n",
       "</table>\n",
       "</div>"
      ],
      "text/plain": [
       "               FLIGHT   SHPWT  SHPVOL  SHPPCS   BKDWT  BKDVOL  BKDPCS  \\\n",
       "0  QR-0069-2016-01-02  2100.0  13.966      15  2527.0  10.729      24   \n",
       "1  QR-8245-2016-01-02   180.0   1.072       9  5015.0  24.286       3   \n",
       "2  QR-8623-2016-01-01  1480.0   2.592       3  1480.0   2.592       3   \n",
       "3  QR-0570-2016-01-04  2500.0  11.391     125  1500.0   9.000      69   \n",
       "4  QR-8112-2016-01-28  2000.0  12.000       1  2000.0  16.300      30   \n",
       "\n",
       "   FRSTBOOKEDWT  FRSTBOOKEDVOL  FRSTBOOKEDPCS  FRSTSHPWT  FRSTSHPVOL  \\\n",
       "0        2527.0         10.729             24     2100.0      13.970   \n",
       "1        5015.0         24.286              3      180.0       1.072   \n",
       "2        1480.0          2.592              3     1480.0       2.592   \n",
       "3        1500.0          9.000             69     2500.0      11.391   \n",
       "4        2000.0         12.000              1     2000.0      12.000   \n",
       "\n",
       "   FRSTSHPPCS   RCSWT  \n",
       "0          15  2527.0  \n",
       "1           9  5015.0  \n",
       "2           3  1156.0  \n",
       "3         125    15.0  \n",
       "4           1  1691.0  "
      ]
     },
     "execution_count": 2,
     "metadata": {},
     "output_type": "execute_result"
    }
   ],
   "source": [
    "#data=data.drop('FLIGHT',axis=1)\n",
    "data=data.drop('AGENTCODE',axis=1)\n",
    "data=data.drop('booking_id',axis=1)\n",
    "data=data.drop('BOOKINGCHANNEL',axis=1)\n",
    "data=data.drop('PRODUCT',axis=1)\n",
    "data=data.drop('SHCLIST',axis=1)\n",
    "data[0:5]"
   ]
  },
  {
   "cell_type": "code",
   "execution_count": 3,
   "metadata": {},
   "outputs": [
    {
     "data": {
      "text/plain": [
       "(1048575, 14)"
      ]
     },
     "execution_count": 3,
     "metadata": {},
     "output_type": "execute_result"
    }
   ],
   "source": [
    "data.shape"
   ]
  },
  {
   "cell_type": "code",
   "execution_count": 4,
   "metadata": {
    "collapsed": true
   },
   "outputs": [],
   "source": [
    "train_data=data[0:100000]\n",
    "test_data=data[100000:200000]"
   ]
  },
  {
   "cell_type": "code",
   "execution_count": 5,
   "metadata": {},
   "outputs": [
    {
     "data": {
      "text/plain": [
       "(100000, 14)"
      ]
     },
     "execution_count": 5,
     "metadata": {},
     "output_type": "execute_result"
    }
   ],
   "source": [
    "train_data.shape"
   ]
  },
  {
   "cell_type": "code",
   "execution_count": 6,
   "metadata": {},
   "outputs": [
    {
     "data": {
      "text/plain": [
       "(100000, 14)"
      ]
     },
     "execution_count": 6,
     "metadata": {},
     "output_type": "execute_result"
    }
   ],
   "source": [
    "test_data.shape"
   ]
  },
  {
   "cell_type": "code",
   "execution_count": 7,
   "metadata": {},
   "outputs": [
    {
     "name": "stdout",
     "output_type": "stream",
     "text": [
      "[[2100.0 13.966 15 2527.0 10.729000000000001 24 2527.0 10.729000000000001\n",
      "  24 2100.0 13.97 15]\n",
      " [180.0 1.072 9 5015.0 24.285999999999998 3 5015.0 24.285999999999998 3\n",
      "  180.0 1.072 9]\n",
      " [1480.0 2.592 3 1480.0 2.592 3 1480.0 2.592 3 1480.0 2.592 3]\n",
      " [2500.0 11.390999999999998 125 1500.0 9.0 69 1500.0 9.0 69 2500.0\n",
      "  11.390999999999998 125]\n",
      " [2000.0 12.0 1 2000.0 16.3 30 2000.0 12.0 1 2000.0 12.0 1]]\n",
      "[2527.0 5015.0 1156.0 15.0 1691.0]\n"
     ]
    }
   ],
   "source": [
    "array = train_data.values\n",
    "X = array[:,1:13]\n",
    "Y = array[:,13]\n",
    "print(X[0:5])\n",
    "print(Y[0:5])"
   ]
  },
  {
   "cell_type": "code",
   "execution_count": 8,
   "metadata": {},
   "outputs": [
    {
     "name": "stdout",
     "output_type": "stream",
     "text": [
      "(100000, 12)\n",
      "(100000,)\n"
     ]
    }
   ],
   "source": [
    "print (X.shape)\n",
    "print (Y.shape)"
   ]
  },
  {
   "cell_type": "code",
   "execution_count": 5,
   "metadata": {
    "collapsed": true
   },
   "outputs": [],
   "source": [
    "import seaborn as sns\n",
    "import matplotlib.pyplot as plt\n",
    "%matplotlib inline"
   ]
  },
  {
   "cell_type": "code",
   "execution_count": 10,
   "metadata": {},
   "outputs": [
    {
     "name": "stdout",
     "output_type": "stream",
     "text": [
      "Some Statistics of the RCSWT in Training Data:\n",
      "\n",
      "count    100000.000000\n",
      "mean       2519.854127\n",
      "std        6518.374265\n",
      "min           0.000000\n",
      "25%        1016.950000\n",
      "50%        1636.570000\n",
      "75%        2900.250000\n",
      "max      236219.330000\n",
      "Name: RCSWT, dtype: float64\n",
      "The median of the RCSWT is:  1636.57\n"
     ]
    }
   ],
   "source": [
    "print(\"Some Statistics of the RCSWT in Training Data:\\n\")\n",
    "print(train_data['RCSWT'].describe())\n",
    "print(\"The median of the RCSWT is: \", train_data['RCSWT'].median(axis = 0))"
   ]
  },
  {
   "cell_type": "code",
   "execution_count": 11,
   "metadata": {},
   "outputs": [
    {
     "data": {
      "text/plain": [
       "<matplotlib.axes._subplots.AxesSubplot at 0x18aeb9b0>"
      ]
     },
     "execution_count": 11,
     "metadata": {},
     "output_type": "execute_result"
    },
    {
     "data": {
      "image/png": "[encoded data removed]",
      "text/plain": [
       "<matplotlib.figure.Figure at 0x18aeb048>"
      ]
     },
     "metadata": {},
     "output_type": "display_data"
    }
   ],
   "source": [
    "sns.distplot(train_data['RCSWT'], kde = False, color = 'g', hist_kws={'alpha':\n",
    "0.9})"
   ]
  },
  {
   "cell_type": "code",
   "execution_count": null,
   "metadata": {
    "collapsed": true
   },
   "outputs": [],
   "source": [
    "sns.regplot(x = 'BKDWT', y = 'RCSWT', data = train_data, color = 'Orange')"
   ]
  },
  {
   "cell_type": "code",
   "execution_count": null,
   "metadata": {
    "collapsed": true
   },
   "outputs": [],
   "source": [
    "sns.regplot(x = 'FRSTBOOKEDWT', y = 'RCSWT', data = train_data, color = 'Orange')"
   ]
  },
  {
   "cell_type": "code",
   "execution_count": null,
   "metadata": {
    "collapsed": true
   },
   "outputs": [],
   "source": [
    "sns.regplot(x = 'FRSTBOOKEDVOL', y = 'RCSWT', data = train_data, color = 'blue')"
   ]
  },
  {
   "cell_type": "code",
   "execution_count": null,
   "metadata": {
    "collapsed": true
   },
   "outputs": [],
   "source": [
    "sns.regplot(x = 'SHPPCS', y = 'RCSWT', data = train_data, color = 'red')"
   ]
  },
  {
   "cell_type": "code",
   "execution_count": null,
   "metadata": {
    "collapsed": true
   },
   "outputs": [],
   "source": [
    "sns.regplot(x = 'SHPVOL', y = 'RCSWT', data = train_data, color = 'green')"
   ]
  },
  {
   "cell_type": "code",
   "execution_count": 12,
   "metadata": {
    "collapsed": true
   },
   "outputs": [],
   "source": [
    "from sklearn.linear_model import LinearRegression"
   ]
  },
  {
   "cell_type": "code",
   "execution_count": 13,
   "metadata": {
    "collapsed": true
   },
   "outputs": [],
   "source": [
    "model=LinearRegression()"
   ]
  },
  {
   "cell_type": "code",
   "execution_count": 14,
   "metadata": {},
   "outputs": [
    {
     "data": {
      "text/plain": [
       "LinearRegression(copy_X=True, fit_intercept=True, n_jobs=1, normalize=False)"
      ]
     },
     "execution_count": 14,
     "metadata": {},
     "output_type": "execute_result"
    }
   ],
   "source": [
    "model"
   ]
  },
  {
   "cell_type": "code",
   "execution_count": 15,
   "metadata": {},
   "outputs": [
    {
     "data": {
      "text/plain": [
       "LinearRegression(copy_X=True, fit_intercept=True, n_jobs=1, normalize=False)"
      ]
     },
     "execution_count": 15,
     "metadata": {},
     "output_type": "execute_result"
    }
   ],
   "source": [
    "model.fit(X,Y)"
   ]
  },
  {
   "cell_type": "code",
   "execution_count": 16,
   "metadata": {},
   "outputs": [
    {
     "data": {
      "text/plain": [
       "90.640258338525655"
      ]
     },
     "execution_count": 16,
     "metadata": {},
     "output_type": "execute_result"
    }
   ],
   "source": [
    "model.intercept_"
   ]
  },
  {
   "cell_type": "code",
   "execution_count": 17,
   "metadata": {},
   "outputs": [
    {
     "data": {
      "text/plain": [
       "array([ 0.38968119,  0.00366752,  0.25614201,  0.71265486,  0.15419351,\n",
       "       -0.1717243 , -0.27837775,  0.07329315, -0.50566954,  0.01088043,\n",
       "        2.2103507 ,  0.39355468])"
      ]
     },
     "execution_count": 17,
     "metadata": {},
     "output_type": "execute_result"
    }
   ],
   "source": [
    "model.coef_"
   ]
  },
  {
   "cell_type": "code",
   "execution_count": 18,
   "metadata": {
    "collapsed": true
   },
   "outputs": [],
   "source": [
    "d = {'Dependent Variable': ['SHPWT', 'SHPVOL', 'SHPPCS', 'BKDWT', 'BKDVOL', 'BKDPCS',\n",
    "       'FRSTBOOKEDWT', 'FRSTBOOKEDVOL', 'FRSTBOOKEDPCS', 'FRSTSHPWT',\n",
    "       'FRSTSHPVOL', 'FRSTSHPPCS'], 'Estimated Coefficient': [0.74314721, -0.48247607,  0.70097398,  0.66293538,  2.28739503,\n",
    "       -0.05765989, -0.77257348, -2.22538139, -1.48901661,  0.22059238,\n",
    "        2.81794788,  0.81398713]}\n",
    "df = pd.DataFrame(data=d)"
   ]
  },
  {
   "cell_type": "code",
   "execution_count": 19,
   "metadata": {},
   "outputs": [
    {
     "data": {
      "text/html": [
       "<div>\n",
       "<style>\n",
       "    .dataframe thead tr:only-child th {\n",
       "        text-align: right;\n",
       "    }\n",
       "\n",
       "    .dataframe thead th {\n",
       "        text-align: left;\n",
       "    }\n",
       "\n",
       "    .dataframe tbody tr th {\n",
       "        vertical-align: top;\n",
       "    }\n",
       "</style>\n",
       "<table border=\"1\" class=\"dataframe\">\n",
       "  <thead>\n",
       "    <tr style=\"text-align: right;\">\n",
       "      <th></th>\n",
       "      <th>Dependent Variable</th>\n",
       "      <th>Estimated Coefficient</th>\n",
       "    </tr>\n",
       "  </thead>\n",
       "  <tbody>\n",
       "    <tr>\n",
       "      <th>0</th>\n",
       "      <td>SHPWT</td>\n",
       "      <td>0.743147</td>\n",
       "    </tr>\n",
       "    <tr>\n",
       "      <th>1</th>\n",
       "      <td>SHPVOL</td>\n",
       "      <td>-0.482476</td>\n",
       "    </tr>\n",
       "    <tr>\n",
       "      <th>2</th>\n",
       "      <td>SHPPCS</td>\n",
       "      <td>0.700974</td>\n",
       "    </tr>\n",
       "    <tr>\n",
       "      <th>3</th>\n",
       "      <td>BKDWT</td>\n",
       "      <td>0.662935</td>\n",
       "    </tr>\n",
       "    <tr>\n",
       "      <th>4</th>\n",
       "      <td>BKDVOL</td>\n",
       "      <td>2.287395</td>\n",
       "    </tr>\n",
       "    <tr>\n",
       "      <th>5</th>\n",
       "      <td>BKDPCS</td>\n",
       "      <td>-0.057660</td>\n",
       "    </tr>\n",
       "    <tr>\n",
       "      <th>6</th>\n",
       "      <td>FRSTBOOKEDWT</td>\n",
       "      <td>-0.772573</td>\n",
       "    </tr>\n",
       "    <tr>\n",
       "      <th>7</th>\n",
       "      <td>FRSTBOOKEDVOL</td>\n",
       "      <td>-2.225381</td>\n",
       "    </tr>\n",
       "    <tr>\n",
       "      <th>8</th>\n",
       "      <td>FRSTBOOKEDPCS</td>\n",
       "      <td>-1.489017</td>\n",
       "    </tr>\n",
       "    <tr>\n",
       "      <th>9</th>\n",
       "      <td>FRSTSHPWT</td>\n",
       "      <td>0.220592</td>\n",
       "    </tr>\n",
       "    <tr>\n",
       "      <th>10</th>\n",
       "      <td>FRSTSHPVOL</td>\n",
       "      <td>2.817948</td>\n",
       "    </tr>\n",
       "    <tr>\n",
       "      <th>11</th>\n",
       "      <td>FRSTSHPPCS</td>\n",
       "      <td>0.813987</td>\n",
       "    </tr>\n",
       "  </tbody>\n",
       "</table>\n",
       "</div>"
      ],
      "text/plain": [
       "   Dependent Variable  Estimated Coefficient\n",
       "0               SHPWT               0.743147\n",
       "1              SHPVOL              -0.482476\n",
       "2              SHPPCS               0.700974\n",
       "3               BKDWT               0.662935\n",
       "4              BKDVOL               2.287395\n",
       "5              BKDPCS              -0.057660\n",
       "6        FRSTBOOKEDWT              -0.772573\n",
       "7       FRSTBOOKEDVOL              -2.225381\n",
       "8       FRSTBOOKEDPCS              -1.489017\n",
       "9           FRSTSHPWT               0.220592\n",
       "10         FRSTSHPVOL               2.817948\n",
       "11         FRSTSHPPCS               0.813987"
      ]
     },
     "execution_count": 19,
     "metadata": {},
     "output_type": "execute_result"
    }
   ],
   "source": [
    "df"
   ]
  },
  {
   "cell_type": "code",
   "execution_count": 20,
   "metadata": {},
   "outputs": [
    {
     "data": {
      "text/html": [
       "<div>\n",
       "<style>\n",
       "    .dataframe thead tr:only-child th {\n",
       "        text-align: right;\n",
       "    }\n",
       "\n",
       "    .dataframe thead th {\n",
       "        text-align: left;\n",
       "    }\n",
       "\n",
       "    .dataframe tbody tr th {\n",
       "        vertical-align: top;\n",
       "    }\n",
       "</style>\n",
       "<table border=\"1\" class=\"dataframe\">\n",
       "  <thead>\n",
       "    <tr style=\"text-align: right;\">\n",
       "      <th></th>\n",
       "      <th>FLIGHT</th>\n",
       "      <th>SHPWT</th>\n",
       "      <th>SHPPCS</th>\n",
       "      <th>BKDWT</th>\n",
       "      <th>BKDVOL</th>\n",
       "      <th>FRSTSHPWT</th>\n",
       "      <th>FRSTSHPVOL</th>\n",
       "      <th>FRSTSHPPCS</th>\n",
       "      <th>RCSWT</th>\n",
       "    </tr>\n",
       "  </thead>\n",
       "  <tbody>\n",
       "    <tr>\n",
       "      <th>0</th>\n",
       "      <td>QR-0069-2016-01-02</td>\n",
       "      <td>2100.0</td>\n",
       "      <td>15</td>\n",
       "      <td>2527.0</td>\n",
       "      <td>10.729</td>\n",
       "      <td>2100.0</td>\n",
       "      <td>13.970</td>\n",
       "      <td>15</td>\n",
       "      <td>2527.0</td>\n",
       "    </tr>\n",
       "    <tr>\n",
       "      <th>1</th>\n",
       "      <td>QR-8245-2016-01-02</td>\n",
       "      <td>180.0</td>\n",
       "      <td>9</td>\n",
       "      <td>5015.0</td>\n",
       "      <td>24.286</td>\n",
       "      <td>180.0</td>\n",
       "      <td>1.072</td>\n",
       "      <td>9</td>\n",
       "      <td>5015.0</td>\n",
       "    </tr>\n",
       "    <tr>\n",
       "      <th>2</th>\n",
       "      <td>QR-8623-2016-01-01</td>\n",
       "      <td>1480.0</td>\n",
       "      <td>3</td>\n",
       "      <td>1480.0</td>\n",
       "      <td>2.592</td>\n",
       "      <td>1480.0</td>\n",
       "      <td>2.592</td>\n",
       "      <td>3</td>\n",
       "      <td>1156.0</td>\n",
       "    </tr>\n",
       "    <tr>\n",
       "      <th>3</th>\n",
       "      <td>QR-0570-2016-01-04</td>\n",
       "      <td>2500.0</td>\n",
       "      <td>125</td>\n",
       "      <td>1500.0</td>\n",
       "      <td>9.000</td>\n",
       "      <td>2500.0</td>\n",
       "      <td>11.391</td>\n",
       "      <td>125</td>\n",
       "      <td>15.0</td>\n",
       "    </tr>\n",
       "    <tr>\n",
       "      <th>4</th>\n",
       "      <td>QR-8112-2016-01-28</td>\n",
       "      <td>2000.0</td>\n",
       "      <td>1</td>\n",
       "      <td>2000.0</td>\n",
       "      <td>16.300</td>\n",
       "      <td>2000.0</td>\n",
       "      <td>12.000</td>\n",
       "      <td>1</td>\n",
       "      <td>1691.0</td>\n",
       "    </tr>\n",
       "  </tbody>\n",
       "</table>\n",
       "</div>"
      ],
      "text/plain": [
       "               FLIGHT   SHPWT  SHPPCS   BKDWT  BKDVOL  FRSTSHPWT  FRSTSHPVOL  \\\n",
       "0  QR-0069-2016-01-02  2100.0      15  2527.0  10.729     2100.0      13.970   \n",
       "1  QR-8245-2016-01-02   180.0       9  5015.0  24.286      180.0       1.072   \n",
       "2  QR-8623-2016-01-01  1480.0       3  1480.0   2.592     1480.0       2.592   \n",
       "3  QR-0570-2016-01-04  2500.0     125  1500.0   9.000     2500.0      11.391   \n",
       "4  QR-8112-2016-01-28  2000.0       1  2000.0  16.300     2000.0      12.000   \n",
       "\n",
       "   FRSTSHPPCS   RCSWT  \n",
       "0          15  2527.0  \n",
       "1           9  5015.0  \n",
       "2           3  1156.0  \n",
       "3         125    15.0  \n",
       "4           1  1691.0  "
      ]
     },
     "execution_count": 20,
     "metadata": {},
     "output_type": "execute_result"
    }
   ],
   "source": [
    "train_data=train_data.drop('SHPVOL',axis=1)\n",
    "train_data=train_data.drop('BKDPCS',axis=1)\n",
    "train_data=train_data.drop('FRSTBOOKEDWT',axis=1)\n",
    "train_data=train_data.drop('FRSTBOOKEDVOL',axis=1)\n",
    "train_data=train_data.drop('FRSTBOOKEDPCS',axis=1)\n",
    "train_data[0:5]"
   ]
  },
  {
   "cell_type": "code",
   "execution_count": 21,
   "metadata": {},
   "outputs": [
    {
     "name": "stdout",
     "output_type": "stream",
     "text": [
      "[[2100.0 15 2527.0 10.729000000000001 2100.0 13.97 15]\n",
      " [180.0 9 5015.0 24.285999999999998 180.0 1.072 9]\n",
      " [1480.0 3 1480.0 2.592 1480.0 2.592 3]\n",
      " [2500.0 125 1500.0 9.0 2500.0 11.390999999999998 125]\n",
      " [2000.0 1 2000.0 16.3 2000.0 12.0 1]]\n",
      "[2527.0 5015.0 1156.0 15.0 1691.0]\n"
     ]
    }
   ],
   "source": [
    "train_array = train_data.values\n",
    "X_train = train_array[:,1:8]\n",
    "Y_train = train_array[:,8]\n",
    "print(X_train[0:5])\n",
    "print(Y_train[0:5])"
   ]
  },
  {
   "cell_type": "code",
   "execution_count": 22,
   "metadata": {},
   "outputs": [
    {
     "data": {
      "text/plain": [
       "LinearRegression(copy_X=True, fit_intercept=True, n_jobs=1, normalize=False)"
      ]
     },
     "execution_count": 22,
     "metadata": {},
     "output_type": "execute_result"
    }
   ],
   "source": [
    "model.fit(X_train,Y_train)"
   ]
  },
  {
   "cell_type": "code",
   "execution_count": 23,
   "metadata": {},
   "outputs": [
    {
     "data": {
      "text/html": [
       "<div>\n",
       "<style>\n",
       "    .dataframe thead tr:only-child th {\n",
       "        text-align: right;\n",
       "    }\n",
       "\n",
       "    .dataframe thead th {\n",
       "        text-align: left;\n",
       "    }\n",
       "\n",
       "    .dataframe tbody tr th {\n",
       "        vertical-align: top;\n",
       "    }\n",
       "</style>\n",
       "<table border=\"1\" class=\"dataframe\">\n",
       "  <thead>\n",
       "    <tr style=\"text-align: right;\">\n",
       "      <th></th>\n",
       "      <th>FLIGHT</th>\n",
       "      <th>SHPWT</th>\n",
       "      <th>SHPPCS</th>\n",
       "      <th>BKDWT</th>\n",
       "      <th>BKDVOL</th>\n",
       "      <th>FRSTSHPWT</th>\n",
       "      <th>FRSTSHPVOL</th>\n",
       "      <th>FRSTSHPPCS</th>\n",
       "      <th>RCSWT</th>\n",
       "    </tr>\n",
       "  </thead>\n",
       "  <tbody>\n",
       "    <tr>\n",
       "      <th>100000</th>\n",
       "      <td>QR-0572-2016-02-15</td>\n",
       "      <td>2500.0</td>\n",
       "      <td>20</td>\n",
       "      <td>2500.0</td>\n",
       "      <td>16.332</td>\n",
       "      <td>2500.0</td>\n",
       "      <td>16.332</td>\n",
       "      <td>20</td>\n",
       "      <td>2477.0</td>\n",
       "    </tr>\n",
       "    <tr>\n",
       "      <th>100001</th>\n",
       "      <td>QR-0571-2016-02-06</td>\n",
       "      <td>1525.0</td>\n",
       "      <td>110</td>\n",
       "      <td>1525.0</td>\n",
       "      <td>6.859</td>\n",
       "      <td>1525.0</td>\n",
       "      <td>6.859</td>\n",
       "      <td>110</td>\n",
       "      <td>1525.0</td>\n",
       "    </tr>\n",
       "    <tr>\n",
       "      <th>100002</th>\n",
       "      <td>QR-0707-2016-02-09</td>\n",
       "      <td>1525.0</td>\n",
       "      <td>110</td>\n",
       "      <td>1525.0</td>\n",
       "      <td>6.859</td>\n",
       "      <td>1525.0</td>\n",
       "      <td>6.859</td>\n",
       "      <td>110</td>\n",
       "      <td>1525.0</td>\n",
       "    </tr>\n",
       "    <tr>\n",
       "      <th>100003</th>\n",
       "      <td>QR-8601-2016-02-07</td>\n",
       "      <td>1680.0</td>\n",
       "      <td>8</td>\n",
       "      <td>1149.0</td>\n",
       "      <td>1.640</td>\n",
       "      <td>1680.0</td>\n",
       "      <td>12.026</td>\n",
       "      <td>8</td>\n",
       "      <td>1149.0</td>\n",
       "    </tr>\n",
       "    <tr>\n",
       "      <th>100004</th>\n",
       "      <td>QR-0117-2016-02-08</td>\n",
       "      <td>1680.0</td>\n",
       "      <td>8</td>\n",
       "      <td>1149.0</td>\n",
       "      <td>1.640</td>\n",
       "      <td>1680.0</td>\n",
       "      <td>12.026</td>\n",
       "      <td>8</td>\n",
       "      <td>1149.0</td>\n",
       "    </tr>\n",
       "  </tbody>\n",
       "</table>\n",
       "</div>"
      ],
      "text/plain": [
       "                    FLIGHT   SHPWT  SHPPCS   BKDWT  BKDVOL  FRSTSHPWT  \\\n",
       "100000  QR-0572-2016-02-15  2500.0      20  2500.0  16.332     2500.0   \n",
       "100001  QR-0571-2016-02-06  1525.0     110  1525.0   6.859     1525.0   \n",
       "100002  QR-0707-2016-02-09  1525.0     110  1525.0   6.859     1525.0   \n",
       "100003  QR-8601-2016-02-07  1680.0       8  1149.0   1.640     1680.0   \n",
       "100004  QR-0117-2016-02-08  1680.0       8  1149.0   1.640     1680.0   \n",
       "\n",
       "        FRSTSHPVOL  FRSTSHPPCS   RCSWT  \n",
       "100000      16.332          20  2477.0  \n",
       "100001       6.859         110  1525.0  \n",
       "100002       6.859         110  1525.0  \n",
       "100003      12.026           8  1149.0  \n",
       "100004      12.026           8  1149.0  "
      ]
     },
     "execution_count": 23,
     "metadata": {},
     "output_type": "execute_result"
    }
   ],
   "source": [
    "test_data=test_data.drop('SHPVOL',axis=1)\n",
    "test_data=test_data.drop('BKDPCS',axis=1)\n",
    "test_data=test_data.drop('FRSTBOOKEDWT',axis=1)\n",
    "test_data=test_data.drop('FRSTBOOKEDVOL',axis=1)\n",
    "test_data=test_data.drop('FRSTBOOKEDPCS',axis=1)\n",
    "test_data[0:5]"
   ]
  },
  {
   "cell_type": "code",
   "execution_count": 24,
   "metadata": {},
   "outputs": [
    {
     "data": {
      "text/html": [
       "<div>\n",
       "<style>\n",
       "    .dataframe thead tr:only-child th {\n",
       "        text-align: right;\n",
       "    }\n",
       "\n",
       "    .dataframe thead th {\n",
       "        text-align: left;\n",
       "    }\n",
       "\n",
       "    .dataframe tbody tr th {\n",
       "        vertical-align: top;\n",
       "    }\n",
       "</style>\n",
       "<table border=\"1\" class=\"dataframe\">\n",
       "  <thead>\n",
       "    <tr style=\"text-align: right;\">\n",
       "      <th></th>\n",
       "      <th>FLIGHT</th>\n",
       "      <th>SHPWT</th>\n",
       "      <th>SHPPCS</th>\n",
       "      <th>BKDWT</th>\n",
       "      <th>BKDVOL</th>\n",
       "      <th>FRSTSHPWT</th>\n",
       "      <th>FRSTSHPVOL</th>\n",
       "      <th>FRSTSHPPCS</th>\n",
       "      <th>RCSWT</th>\n",
       "    </tr>\n",
       "  </thead>\n",
       "  <tbody>\n",
       "    <tr>\n",
       "      <th>100000</th>\n",
       "      <td>QR-0572-2016-02-15</td>\n",
       "      <td>2500.0</td>\n",
       "      <td>20</td>\n",
       "      <td>2500.0</td>\n",
       "      <td>16.332</td>\n",
       "      <td>2500.0</td>\n",
       "      <td>16.332</td>\n",
       "      <td>20</td>\n",
       "      <td>2477.0</td>\n",
       "    </tr>\n",
       "    <tr>\n",
       "      <th>100001</th>\n",
       "      <td>QR-0571-2016-02-06</td>\n",
       "      <td>1525.0</td>\n",
       "      <td>110</td>\n",
       "      <td>1525.0</td>\n",
       "      <td>6.859</td>\n",
       "      <td>1525.0</td>\n",
       "      <td>6.859</td>\n",
       "      <td>110</td>\n",
       "      <td>1525.0</td>\n",
       "    </tr>\n",
       "    <tr>\n",
       "      <th>100002</th>\n",
       "      <td>QR-0707-2016-02-09</td>\n",
       "      <td>1525.0</td>\n",
       "      <td>110</td>\n",
       "      <td>1525.0</td>\n",
       "      <td>6.859</td>\n",
       "      <td>1525.0</td>\n",
       "      <td>6.859</td>\n",
       "      <td>110</td>\n",
       "      <td>1525.0</td>\n",
       "    </tr>\n",
       "    <tr>\n",
       "      <th>100003</th>\n",
       "      <td>QR-8601-2016-02-07</td>\n",
       "      <td>1680.0</td>\n",
       "      <td>8</td>\n",
       "      <td>1149.0</td>\n",
       "      <td>1.640</td>\n",
       "      <td>1680.0</td>\n",
       "      <td>12.026</td>\n",
       "      <td>8</td>\n",
       "      <td>1149.0</td>\n",
       "    </tr>\n",
       "    <tr>\n",
       "      <th>100004</th>\n",
       "      <td>QR-0117-2016-02-08</td>\n",
       "      <td>1680.0</td>\n",
       "      <td>8</td>\n",
       "      <td>1149.0</td>\n",
       "      <td>1.640</td>\n",
       "      <td>1680.0</td>\n",
       "      <td>12.026</td>\n",
       "      <td>8</td>\n",
       "      <td>1149.0</td>\n",
       "    </tr>\n",
       "  </tbody>\n",
       "</table>\n",
       "</div>"
      ],
      "text/plain": [
       "                    FLIGHT   SHPWT  SHPPCS   BKDWT  BKDVOL  FRSTSHPWT  \\\n",
       "100000  QR-0572-2016-02-15  2500.0      20  2500.0  16.332     2500.0   \n",
       "100001  QR-0571-2016-02-06  1525.0     110  1525.0   6.859     1525.0   \n",
       "100002  QR-0707-2016-02-09  1525.0     110  1525.0   6.859     1525.0   \n",
       "100003  QR-8601-2016-02-07  1680.0       8  1149.0   1.640     1680.0   \n",
       "100004  QR-0117-2016-02-08  1680.0       8  1149.0   1.640     1680.0   \n",
       "\n",
       "        FRSTSHPVOL  FRSTSHPPCS   RCSWT  \n",
       "100000      16.332          20  2477.0  \n",
       "100001       6.859         110  1525.0  \n",
       "100002       6.859         110  1525.0  \n",
       "100003      12.026           8  1149.0  \n",
       "100004      12.026           8  1149.0  "
      ]
     },
     "execution_count": 24,
     "metadata": {},
     "output_type": "execute_result"
    }
   ],
   "source": [
    "test_data[0:5]"
   ]
  },
  {
   "cell_type": "code",
   "execution_count": 25,
   "metadata": {},
   "outputs": [
    {
     "name": "stdout",
     "output_type": "stream",
     "text": [
      "[[2500.0 20 2500.0 16.332 2500.0 16.332 20]\n",
      " [1525.0 110 1525.0 6.859 1525.0 6.859 110]\n",
      " [1525.0 110 1525.0 6.859 1525.0 6.859 110]\n",
      " [1680.0 8 1149.0 1.64 1680.0 12.026 8]\n",
      " [1680.0 8 1149.0 1.64 1680.0 12.026 8]]\n",
      "[2477.0 1525.0 1525.0 1149.0 1149.0]\n"
     ]
    }
   ],
   "source": [
    "test_array = test_data.values\n",
    "X_test = test_array[:,1:8]\n",
    "Y_test = test_array[:,8]\n",
    "print(X_test[0:5])\n",
    "print(Y_test[0:5])"
   ]
  },
  {
   "cell_type": "code",
   "execution_count": 26,
   "metadata": {
    "collapsed": true
   },
   "outputs": [],
   "source": [
    "Y_pred=model.predict(X_test)"
   ]
  },
  {
   "cell_type": "code",
   "execution_count": 27,
   "metadata": {},
   "outputs": [
    {
     "name": "stdout",
     "output_type": "stream",
     "text": [
      "[ 2225.23488842  1388.29178166  1388.29178166  1286.6428182   1286.6428182 ]\n",
      "[2477.0 1525.0 1525.0 1149.0 1149.0]\n"
     ]
    }
   ],
   "source": [
    "print(Y_pred[0:5])\n",
    "print(Y_test[0:5])"
   ]
  },
  {
   "cell_type": "code",
   "execution_count": 28,
   "metadata": {},
   "outputs": [
    {
     "data": {
      "text/plain": [
       "<matplotlib.collections.PathCollection at 0x1c866240>"
      ]
     },
     "execution_count": 28,
     "metadata": {},
     "output_type": "execute_result"
    },
    {
     "data": {
      "image/png": "[encoded data removed]",
      "text/plain": [
       "<matplotlib.figure.Figure at 0x1921c400>"
      ]
     },
     "metadata": {},
     "output_type": "display_data"
    }
   ],
   "source": [
    "plt.scatter(Y_test,Y_pred)"
   ]
  },
  {
   "cell_type": "code",
   "execution_count": 29,
   "metadata": {},
   "outputs": [
    {
     "data": {
      "image/png": "[encoded data removed]",
      "text/plain": [
       "<matplotlib.figure.Figure at 0x1d4d7860>"
      ]
     },
     "metadata": {},
     "output_type": "display_data"
    }
   ],
   "source": [
    "plt.figure(1)\n",
    "plt.subplot(211)\n",
    "plt.plot(Y_pred, 'b--')\n",
    "plt.ylabel('Predicted')\n",
    "\n",
    "plt.subplot(212)\n",
    "plt.plot(Y_test, 'r--')\n",
    "plt.ylabel('Actual')\n",
    "plt.show()"
   ]
  },
  {
   "cell_type": "code",
   "execution_count": null,
   "metadata": {
    "collapsed": true
   },
   "outputs": [],
   "source": [
    "from sklearn.metrics import r2_score, mean_squared_error\n",
    "print('R2: {}'.format(r2_score(Y_test,Y_pred)))\n",
    "print('RMSE: {}'.format(np.sqrt(mean_squared_error(Y_pred, Y_test))))"
   ]
  },
  {
   "cell_type": "code",
   "execution_count": null,
   "metadata": {
    "collapsed": true
   },
   "outputs": [],
   "source": [
    "actual_data=train_data[['FLIGHT','RCSWT']]"
   ]
  },
  {
   "cell_type": "code",
   "execution_count": null,
   "metadata": {
    "collapsed": true
   },
   "outputs": [],
   "source": [
    "actual_data[0:5]"
   ]
  },
  {
   "cell_type": "code",
   "execution_count": null,
   "metadata": {
    "collapsed": true
   },
   "outputs": [],
   "source": [
    "test_data['Y_pred']=Y_pred"
   ]
  },
  {
   "cell_type": "code",
   "execution_count": null,
   "metadata": {
    "collapsed": true
   },
   "outputs": [],
   "source": [
    "predicted_data=test_data[['FLIGHT','Y_pred']]"
   ]
  },
  {
   "cell_type": "code",
   "execution_count": null,
   "metadata": {
    "collapsed": true
   },
   "outputs": [],
   "source": [
    "predicted_data[0:5]"
   ]
  },
  {
   "cell_type": "code",
   "execution_count": null,
   "metadata": {
    "collapsed": true
   },
   "outputs": [],
   "source": [
    "submission = pd.DataFrame({\n",
    "\"\": test_data[\"FLIGHT\"],\n",
    "\"Prediction\": Y_pred, \"Actual\":test_data['RCSWT']\n",
    "})\n",
    "submission.to_csv('prediction.csv', index=False)"
   ]
  },
  {
   "cell_type": "code",
   "execution_count": 13,
   "metadata": {},
   "outputs": [
    {
     "data": {
      "text/html": [
       "<div>\n",
       "<style>\n",
       "    .dataframe thead tr:only-child th {\n",
       "        text-align: right;\n",
       "    }\n",
       "\n",
       "    .dataframe thead th {\n",
       "        text-align: left;\n",
       "    }\n",
       "\n",
       "    .dataframe tbody tr th {\n",
       "        vertical-align: top;\n",
       "    }\n",
       "</style>\n",
       "<table border=\"1\" class=\"dataframe\">\n",
       "  <thead>\n",
       "    <tr style=\"text-align: right;\">\n",
       "      <th></th>\n",
       "      <th>at1</th>\n",
       "      <th>at2</th>\n",
       "      <th>at3</th>\n",
       "      <th>at4</th>\n",
       "    </tr>\n",
       "  </thead>\n",
       "  <tbody>\n",
       "    <tr>\n",
       "      <th>0</th>\n",
       "      <td>QR-0001-2016-03-30</td>\n",
       "      <td>4380.0</td>\n",
       "      <td>4368.738</td>\n",
       "      <td>-11.262</td>\n",
       "    </tr>\n",
       "    <tr>\n",
       "      <th>1</th>\n",
       "      <td>QR-0001-2016-06-10</td>\n",
       "      <td>5603.0</td>\n",
       "      <td>5633.396</td>\n",
       "      <td>30.396</td>\n",
       "    </tr>\n",
       "    <tr>\n",
       "      <th>2</th>\n",
       "      <td>QR-0001-2016-06-16</td>\n",
       "      <td>2694.0</td>\n",
       "      <td>3295.847</td>\n",
       "      <td>601.847</td>\n",
       "    </tr>\n",
       "    <tr>\n",
       "      <th>3</th>\n",
       "      <td>QR-0001-2016-06-17</td>\n",
       "      <td>5144.0</td>\n",
       "      <td>5724.694</td>\n",
       "      <td>580.694</td>\n",
       "    </tr>\n",
       "    <tr>\n",
       "      <th>4</th>\n",
       "      <td>QR-0001-2016-06-18</td>\n",
       "      <td>10002.0</td>\n",
       "      <td>9298.865</td>\n",
       "      <td>-703.135</td>\n",
       "    </tr>\n",
       "  </tbody>\n",
       "</table>\n",
       "</div>"
      ],
      "text/plain": [
       "                  at1      at2       at3      at4\n",
       "0  QR-0001-2016-03-30   4380.0  4368.738  -11.262\n",
       "1  QR-0001-2016-06-10   5603.0  5633.396   30.396\n",
       "2  QR-0001-2016-06-16   2694.0  3295.847  601.847\n",
       "3  QR-0001-2016-06-17   5144.0  5724.694  580.694\n",
       "4  QR-0001-2016-06-18  10002.0  9298.865 -703.135"
      ]
     },
     "execution_count": 13,
     "metadata": {},
     "output_type": "execute_result"
    }
   ],
   "source": [
    "import pandas as pd\n",
    "import numpy as np\n",
    "data_new=pd.read_csv('flight_level.csv')\n",
    "#test_data=pd.read_csv('test_seez.csv')\n",
    "data_new[0:5]\n",
    "#print test_data.head()"
   ]
  },
  {
   "cell_type": "code",
   "execution_count": 8,
   "metadata": {
    "collapsed": true
   },
   "outputs": [],
   "source": [
    "Y_pred=data_new['at3']\n",
    "Y_test=data_new['at2']\n",
    "Y_error=data_new['at4']"
   ]
  },
  {
   "cell_type": "code",
   "execution_count": 12,
   "metadata": {},
   "outputs": [
    {
     "data": {
      "image/png": "[encoded data removed]",
      "text/plain": [
       "<matplotlib.figure.Figure at 0xbbcfcf8>"
      ]
     },
     "metadata": {},
     "output_type": "display_data"
    }
   ],
   "source": [
    "plt.figure(1)\n",
    "plt.subplot(311)\n",
    "plt.plot(Y_pred[0:500], 'b--')\n",
    "plt.ylabel('Actual Sum ')\n",
    "\n",
    "plt.subplot(312)\n",
    "plt.plot(Y_test[0:500], 'r--')\n",
    "plt.ylabel('Predicted Sum ')\n",
    "\n",
    "plt.subplot(313)\n",
    "plt.plot(Y_error[0:500], 'g--')\n",
    "plt.ylabel('Error ')\n",
    "plt.xlabel('Flight Level Prediction')\n",
    "plt.show()"
   ]
  },
  {
   "cell_type": "code",
   "execution_count": 14,
   "metadata": {},
   "outputs": [
    {
     "name": "stderr",
     "output_type": "stream",
     "text": [
      "C:\\Users\\Shafiq\\Anaconda3\\lib\\site-packages\\IPython\\core\\interactiveshell.py:2717: DtypeWarning: Columns (2,3) have mixed types. Specify dtype option on import or set low_memory=False.\n",
      "  interactivity=interactivity, compiler=compiler, result=result)\n"
     ]
    },
    {
     "data": {
      "text/html": [
       "<div>\n",
       "<style>\n",
       "    .dataframe thead tr:only-child th {\n",
       "        text-align: right;\n",
       "    }\n",
       "\n",
       "    .dataframe thead th {\n",
       "        text-align: left;\n",
       "    }\n",
       "\n",
       "    .dataframe tbody tr th {\n",
       "        vertical-align: top;\n",
       "    }\n",
       "</style>\n",
       "<table border=\"1\" class=\"dataframe\">\n",
       "  <thead>\n",
       "    <tr style=\"text-align: right;\">\n",
       "      <th></th>\n",
       "      <th>at1</th>\n",
       "      <th>at2</th>\n",
       "      <th>at3</th>\n",
       "      <th>at4</th>\n",
       "    </tr>\n",
       "  </thead>\n",
       "  <tbody>\n",
       "    <tr>\n",
       "      <th>0</th>\n",
       "      <td>QR-0943-2016-06-16</td>\n",
       "      <td>76.0</td>\n",
       "      <td>84.482</td>\n",
       "      <td>8.482</td>\n",
       "    </tr>\n",
       "    <tr>\n",
       "      <th>1</th>\n",
       "      <td>QR-0702-2016-06-15</td>\n",
       "      <td>3.0</td>\n",
       "      <td>15.407</td>\n",
       "      <td>12.407</td>\n",
       "    </tr>\n",
       "    <tr>\n",
       "      <th>2</th>\n",
       "      <td>QR-8650-2016-06-18</td>\n",
       "      <td>3.0</td>\n",
       "      <td>15.407</td>\n",
       "      <td>12.407</td>\n",
       "    </tr>\n",
       "    <tr>\n",
       "      <th>3</th>\n",
       "      <td>QR-8143-2016-06-18</td>\n",
       "      <td>877.8</td>\n",
       "      <td>802.92</td>\n",
       "      <td>-74.88</td>\n",
       "    </tr>\n",
       "    <tr>\n",
       "      <th>4</th>\n",
       "      <td>QR-0728-2016-06-18</td>\n",
       "      <td>162.0</td>\n",
       "      <td>162.874</td>\n",
       "      <td>0.874</td>\n",
       "    </tr>\n",
       "  </tbody>\n",
       "</table>\n",
       "</div>"
      ],
      "text/plain": [
       "                  at1    at2      at3     at4\n",
       "0  QR-0943-2016-06-16   76.0   84.482   8.482\n",
       "1  QR-0702-2016-06-15    3.0   15.407  12.407\n",
       "2  QR-8650-2016-06-18    3.0   15.407  12.407\n",
       "3  QR-8143-2016-06-18  877.8   802.92  -74.88\n",
       "4  QR-0728-2016-06-18  162.0  162.874   0.874"
      ]
     },
     "execution_count": 14,
     "metadata": {},
     "output_type": "execute_result"
    }
   ],
   "source": [
    "data_neww=pd.read_csv('shipment_level.csv')\n",
    "#test_data=pd.read_csv('test_seez.csv')\n",
    "data_neww[0:5]\n",
    "#print test_data.head()"
   ]
  },
  {
   "cell_type": "code",
   "execution_count": 16,
   "metadata": {
    "collapsed": true
   },
   "outputs": [],
   "source": [
    "X_pred=data_neww['at3']\n",
    "X_test=data_neww['at2']\n",
    "X_error=data_neww['at4']"
   ]
  },
  {
   "cell_type": "code",
   "execution_count": 17,
   "metadata": {},
   "outputs": [
    {
     "data": {
      "image/png": "[encoded data removed]",
      "text/plain": [
       "<matplotlib.figure.Figure at 0x10536828>"
      ]
     },
     "metadata": {},
     "output_type": "display_data"
    }
   ],
   "source": [
    "plt.figure(2)\n",
    "plt.subplot(311)\n",
    "plt.plot(X_pred[0:500], 'b--')\n",
    "plt.ylabel('Actual Sum ')\n",
    "\n",
    "plt.subplot(312)\n",
    "plt.plot(X_test[0:500], 'r--')\n",
    "plt.ylabel('Predicted Sum ')\n",
    "\n",
    "plt.subplot(313)\n",
    "plt.plot(X_error[0:500], 'g--')\n",
    "plt.ylabel('Error ')\n",
    "plt.xlabel('Shipment Level Prediction')\n",
    "plt.show()"
   ]
  },
  {
   "cell_type": "code",
   "execution_count": null,
   "metadata": {
    "collapsed": true
   },
   "outputs": [],
   "source": [
    "print('R2: {}'.format(r2_score(Y_test,Y_pred)))\n",
    "print('RMSE: {}'.format(np.sqrt(mean_squared_error(Y_pred, Y_test))))"
   ]
  },
  {
   "cell_type": "code",
   "execution_count": null,
   "metadata": {
    "collapsed": true
   },
   "outputs": [],
   "source": [
    "from sklearn.ensemble import RandomForestRegressor"
   ]
  },
  {
   "cell_type": "code",
   "execution_count": null,
   "metadata": {
    "collapsed": true
   },
   "outputs": [],
   "source": [
    "from sklearn.datasets import make_regression"
   ]
  },
  {
   "cell_type": "code",
   "execution_count": null,
   "metadata": {
    "collapsed": true
   },
   "outputs": [],
   "source": [
    "reg_model = RandomForestRegressor(max_depth=2, random_state=0)"
   ]
  },
  {
   "cell_type": "code",
   "execution_count": null,
   "metadata": {
    "collapsed": true
   },
   "outputs": [],
   "source": [
    "reg_model.fit(X, Y)"
   ]
  },
  {
   "cell_type": "code",
   "execution_count": null,
   "metadata": {
    "collapsed": true
   },
   "outputs": [],
   "source": [
    "Y_pred=reg_model.predict(X)"
   ]
  },
  {
   "cell_type": "code",
   "execution_count": null,
   "metadata": {
    "collapsed": true
   },
   "outputs": [],
   "source": [
    "Y_pred[0:10]"
   ]
  }
 ],
 "metadata": {
  "kernelspec": {
   "display_name": "Python 3",
   "language": "python",
   "name": "python3"
  },
  "language_info": {
   "codemirror_mode": {
    "name": "ipython",
    "version": 3
   },
   "file_extension": ".py",
   "mimetype": "text/x-python",
   "name": "python",
   "nbconvert_exporter": "python",
   "pygments_lexer": "ipython3",
   "version": "3.6.1"
  }
 },
 "nbformat": 4,
 "nbformat_minor": 2
}
